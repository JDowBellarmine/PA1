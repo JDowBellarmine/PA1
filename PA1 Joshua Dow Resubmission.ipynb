{
 "cells": [
  {
   "cell_type": "markdown",
   "id": "a7a3b377",
   "metadata": {},
   "source": [
    "Programming Assingment 1 Resubmission\n",
    "\n",
    "Joshua Dow\n",
    "\n",
    "Fall 2021\n",
    "\n",
    "Python 3"
   ]
  },
  {
   "cell_type": "code",
   "execution_count": 9,
   "id": "749077b5",
   "metadata": {},
   "outputs": [
    {
     "name": "stdout",
     "output_type": "stream",
     "text": [
      "Enter a floating point number: 25.9\n",
      "Enter an integer: 21\n"
     ]
    }
   ],
   "source": [
    "number1 = float(input('Enter a floating point number: '))\n",
    "number2 = int(input('Enter an integer: '))"
   ]
  },
  {
   "cell_type": "code",
   "execution_count": 10,
   "id": "be94a173",
   "metadata": {},
   "outputs": [
    {
     "name": "stdout",
     "output_type": "stream",
     "text": [
      "The sum is 46.9\n"
     ]
    }
   ],
   "source": [
    "print('The sum is', (number1)+(number2))"
   ]
  },
  {
   "cell_type": "code",
   "execution_count": 11,
   "id": "d837f649",
   "metadata": {},
   "outputs": [
    {
     "name": "stdout",
     "output_type": "stream",
     "text": [
      "The difference is 4.899999999999999\n"
     ]
    }
   ],
   "source": [
    "print('The difference is', (number1)-(number2))"
   ]
  },
  {
   "cell_type": "code",
   "execution_count": 12,
   "id": "45a1f3f2",
   "metadata": {},
   "outputs": [
    {
     "name": "stdout",
     "output_type": "stream",
     "text": [
      "The product is 543.9\n"
     ]
    }
   ],
   "source": [
    "print('The product is', (number1)*(number2))"
   ]
  },
  {
   "cell_type": "code",
   "execution_count": 13,
   "id": "0681140e",
   "metadata": {},
   "outputs": [
    {
     "name": "stdout",
     "output_type": "stream",
     "text": [
      "The quotient is 1.2333333333333332\n"
     ]
    }
   ],
   "source": [
    "print('The quotient is', (number1)/(number2))"
   ]
  },
  {
   "cell_type": "code",
   "execution_count": 14,
   "id": "b52c5dc8",
   "metadata": {},
   "outputs": [
    {
     "name": "stdout",
     "output_type": "stream",
     "text": [
      "The type for the result is <class 'float'>\n"
     ]
    }
   ],
   "source": [
    "print('The type for the result is', type(number1))"
   ]
  }
 ],
 "metadata": {
  "kernelspec": {
   "display_name": "Python 3",
   "language": "python",
   "name": "python3"
  },
  "language_info": {
   "codemirror_mode": {
    "name": "ipython",
    "version": 3
   },
   "file_extension": ".py",
   "mimetype": "text/x-python",
   "name": "python",
   "nbconvert_exporter": "python",
   "pygments_lexer": "ipython3",
   "version": "3.8.8"
  }
 },
 "nbformat": 4,
 "nbformat_minor": 5
}
