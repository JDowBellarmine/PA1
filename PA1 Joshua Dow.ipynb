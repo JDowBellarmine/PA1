{
 "cells": [
  {
   "cell_type": "markdown",
   "id": "a7a3b377",
   "metadata": {},
   "source": [
    "Programming Assingment 1\n",
    "\n",
    "Joshua Dow\n",
    "\n",
    "Fall 2021\n",
    "\n",
    "Python 3"
   ]
  },
  {
   "cell_type": "code",
   "execution_count": 2,
   "id": "749077b5",
   "metadata": {},
   "outputs": [],
   "source": [
    "float=29.4\n",
    "int=14"
   ]
  },
  {
   "cell_type": "code",
   "execution_count": 5,
   "id": "be94a173",
   "metadata": {},
   "outputs": [
    {
     "name": "stdout",
     "output_type": "stream",
     "text": [
      "The sum is 43.4\n"
     ]
    }
   ],
   "source": [
    "print('The sum is', (float)+(int))"
   ]
  },
  {
   "cell_type": "code",
   "execution_count": 6,
   "id": "d837f649",
   "metadata": {},
   "outputs": [
    {
     "name": "stdout",
     "output_type": "stream",
     "text": [
      "The difference is 15.399999999999999\n"
     ]
    }
   ],
   "source": [
    "print('The difference is', (float)-(int))"
   ]
  },
  {
   "cell_type": "code",
   "execution_count": 7,
   "id": "45a1f3f2",
   "metadata": {},
   "outputs": [
    {
     "name": "stdout",
     "output_type": "stream",
     "text": [
      "The product is 411.59999999999997\n"
     ]
    }
   ],
   "source": [
    "print('The product is', (float)*(int))"
   ]
  },
  {
   "cell_type": "code",
   "execution_count": 8,
   "id": "0681140e",
   "metadata": {},
   "outputs": [
    {
     "name": "stdout",
     "output_type": "stream",
     "text": [
      "The quotient is 2.1\n"
     ]
    }
   ],
   "source": [
    "print('The quotient is', (float)/(int))"
   ]
  },
  {
   "cell_type": "code",
   "execution_count": 11,
   "id": "b52c5dc8",
   "metadata": {},
   "outputs": [
    {
     "data": {
      "text/plain": [
       "float"
      ]
     },
     "execution_count": 11,
     "metadata": {},
     "output_type": "execute_result"
    }
   ],
   "source": [
    "type(43.4)\n",
    "type(15.399999999999999)\n",
    "type(411.599999999999997)\n",
    "type(2.1)"
   ]
  }
 ],
 "metadata": {
  "kernelspec": {
   "display_name": "Python 3",
   "language": "python",
   "name": "python3"
  },
  "language_info": {
   "codemirror_mode": {
    "name": "ipython",
    "version": 3
   },
   "file_extension": ".py",
   "mimetype": "text/x-python",
   "name": "python",
   "nbconvert_exporter": "python",
   "pygments_lexer": "ipython3",
   "version": "3.8.8"
  }
 },
 "nbformat": 4,
 "nbformat_minor": 5
}
